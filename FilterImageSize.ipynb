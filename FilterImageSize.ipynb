{
  "nbformat": 4,
  "nbformat_minor": 0,
  "metadata": {
    "colab": {
      "name": "FilterImageSize.ipynb",
      "provenance": [],
      "collapsed_sections": [],
      "authorship_tag": "ABX9TyNHKvv0p6S2MyIcdRvpGzde",
      "include_colab_link": true
    },
    "kernelspec": {
      "display_name": "Python 3",
      "name": "python3"
    }
  },
  "cells": [
    {
      "cell_type": "markdown",
      "metadata": {
        "id": "view-in-github",
        "colab_type": "text"
      },
      "source": [
        "<a href=\"https://colab.research.google.com/github/himanithakar1002/Image-size-filteration/blob/main/FilterImageSize.ipynb\" target=\"_parent\"><img src=\"https://colab.research.google.com/assets/colab-badge.svg\" alt=\"Open In Colab\"/></a>"
      ]
    },
    {
      "cell_type": "markdown",
      "metadata": {
        "id": "uVAVuuuS6XDc"
      },
      "source": [
        "# **20MCS0029 | Filter Image Using Size of the image**"
      ]
    },
    {
      "cell_type": "code",
      "metadata": {
        "colab": {
          "base_uri": "https://localhost:8080/"
        },
        "id": "ANkoVoAEBk1C",
        "outputId": "10539a7f-6430-4fda-c4ed-1676614afbfb"
      },
      "source": [
        "# example of using a single convolutional layer\r\n",
        "from numpy import asarray\r\n",
        "from keras.models import Sequential\r\n",
        "from keras.layers import Conv2D\r\n",
        "# define input data\r\n",
        "data = [[0, 0, 0, 1, 1, 0, 0, 0],\r\n",
        "\t\t[0, 0, 0, 1, 1, 0, 0, 0],\r\n",
        "\t\t[0, 0, 0, 1, 1, 0, 0, 0],\r\n",
        "\t\t[0, 0, 0, 1, 1, 0, 0, 0],\r\n",
        "\t\t[0, 0, 0, 1, 1, 0, 0, 0],\r\n",
        "\t\t[0, 0, 0, 1, 1, 0, 0, 0],\r\n",
        "\t\t[0, 0, 0, 1, 1, 0, 0, 0],\r\n",
        "\t\t[0, 0, 0, 1, 1, 0, 0, 0]]\r\n",
        "data = asarray(data)\r\n",
        "data = data.reshape(1, 8, 8, 1)\r\n",
        "# create model\r\n",
        "model = Sequential()\r\n",
        "model.add(Conv2D(1, (3,3), input_shape=(8, 8, 1)))\r\n",
        "# summarize model\r\n",
        "model.summary()\r\n",
        "# define a vertical line detector\r\n",
        "detector = [[[[0]],[[1]],[[0]]],\r\n",
        "            [[[0]],[[1]],[[0]]],\r\n",
        "            [[[0]],[[1]],[[0]]]]\r\n",
        "weights = [asarray(detector), asarray([0.0])]\r\n",
        "# store the weights in the model\r\n",
        "model.set_weights(weights)\r\n",
        "# apply filter to input data\r\n",
        "yhat = model.predict(data)\r\n",
        "# enumerate rows\r\n",
        "for r in range(yhat.shape[1]):\r\n",
        "\t# print each column in the row\r\n",
        "\tprint([yhat[0,r,c,0] for c in range(yhat.shape[2])])"
      ],
      "execution_count": 18,
      "outputs": [
        {
          "output_type": "stream",
          "text": [
            "Model: \"sequential_3\"\n",
            "_________________________________________________________________\n",
            "Layer (type)                 Output Shape              Param #   \n",
            "=================================================================\n",
            "conv2d_4 (Conv2D)            (None, 6, 6, 1)           10        \n",
            "=================================================================\n",
            "Total params: 10\n",
            "Trainable params: 10\n",
            "Non-trainable params: 0\n",
            "_________________________________________________________________\n",
            "[0.0, 0.0, 3.0, 3.0, 0.0, 0.0]\n",
            "[0.0, 0.0, 3.0, 3.0, 0.0, 0.0]\n",
            "[0.0, 0.0, 3.0, 3.0, 0.0, 0.0]\n",
            "[0.0, 0.0, 3.0, 3.0, 0.0, 0.0]\n",
            "[0.0, 0.0, 3.0, 3.0, 0.0, 0.0]\n",
            "[0.0, 0.0, 3.0, 3.0, 0.0, 0.0]\n"
          ],
          "name": "stdout"
        }
      ]
    },
    {
      "cell_type": "code",
      "metadata": {
        "id": "tBG9jvLF_HVk",
        "colab": {
          "base_uri": "https://localhost:8080/"
        },
        "outputId": "63e45213-3d96-4369-a7c1-5326956cc638"
      },
      "source": [
        "# example of vertical line filter with a stride of 2\r\n",
        "from numpy import asarray\r\n",
        "from keras.models import Sequential\r\n",
        "from keras.layers import Conv2D\r\n",
        "# define input data\r\n",
        "data = [[0, 0, 0, 1, 1, 0, 0, 0],\r\n",
        "\t\t[0, 0, 0, 1, 1, 0, 0, 0],\r\n",
        "\t\t[0, 0, 0, 1, 1, 0, 0, 0],\r\n",
        "\t\t[0, 0, 0, 1, 1, 0, 0, 0],\r\n",
        "\t\t[0, 0, 0, 1, 1, 0, 0, 0],\r\n",
        "\t\t[0, 0, 0, 1, 1, 0, 0, 0],\r\n",
        "\t\t[0, 0, 0, 1, 1, 0, 0, 0],\r\n",
        "\t\t[0, 0, 0, 1, 1, 0, 0, 0]]\r\n",
        "data = asarray(data)\r\n",
        "data = data.reshape(1, 8, 8, 1)\r\n",
        "# create model\r\n",
        "model = Sequential()\r\n",
        "model.add(Conv2D(1, (3,3), strides=(2, 2), input_shape=(8, 8, 1)))\r\n",
        "# summarize model\r\n",
        "model.summary()\r\n",
        "# define a vertical line detector\r\n",
        "detector = [[[[0]],[[1]],[[0]]],\r\n",
        "            [[[0]],[[1]],[[0]]],\r\n",
        "            [[[0]],[[1]],[[0]]]]\r\n",
        "weights = [asarray(detector), asarray([0.0])]\r\n",
        "# store the weights in the model\r\n",
        "model.set_weights(weights)\r\n",
        "# apply filter to input data\r\n",
        "yhat = model.predict(data)\r\n",
        "# enumerate rows\r\n",
        "for r in range(yhat.shape[1]):\r\n",
        "\t# print each column in the row\r\n",
        "\tprint([yhat[0,r,c,0] for c in range(yhat.shape[2])])"
      ],
      "execution_count": 19,
      "outputs": [
        {
          "output_type": "stream",
          "text": [
            "Model: \"sequential_4\"\n",
            "_________________________________________________________________\n",
            "Layer (type)                 Output Shape              Param #   \n",
            "=================================================================\n",
            "conv2d_5 (Conv2D)            (None, 3, 3, 1)           10        \n",
            "=================================================================\n",
            "Total params: 10\n",
            "Trainable params: 10\n",
            "Non-trainable params: 0\n",
            "_________________________________________________________________\n",
            "[0.0, 3.0, 0.0]\n",
            "[0.0, 3.0, 0.0]\n",
            "[0.0, 3.0, 0.0]\n"
          ],
          "name": "stdout"
        }
      ]
    },
    {
      "cell_type": "code",
      "metadata": {
        "id": "8ZVaIFPn_N9m"
      },
      "source": [
        "#padding\r\n",
        "import numpy as np\r\n",
        "import h5py\r\n",
        "import matplotlib.pyplot as plt\r\n",
        "\r\n",
        "%matplotlib inline\r\n",
        "plt.rcParams['figure.figsize'] = (5.0, 4.0) # set default size of plots\r\n",
        "plt.rcParams['image.interpolation'] = 'nearest'\r\n",
        "plt.rcParams['image.cmap'] = 'gray'\r\n",
        "\r\n",
        "%reload_ext autoreload\r\n",
        "%autoreload 2\r\n",
        "\r\n",
        "np.random.seed(1)"
      ],
      "execution_count": 27,
      "outputs": []
    },
    {
      "cell_type": "code",
      "metadata": {
        "id": "g3kSYFGXD0Dj"
      },
      "source": [
        "def zero_pad(X, pad):\r\n",
        "  X_pad = np.pad(X, ((0,0), (pad,pad), (pad,pad), (0,0)), 'constant', constant_values = (0,0))\r\n",
        "  return X_pad"
      ],
      "execution_count": 28,
      "outputs": []
    },
    {
      "cell_type": "code",
      "metadata": {
        "colab": {
          "base_uri": "https://localhost:8080/",
          "height": 412
        },
        "id": "mvlOiBfmDmKe",
        "outputId": "3ada6607-9bf6-424b-b90a-ed8e3a820d44"
      },
      "source": [
        "np.random.seed(1)\r\n",
        "x = np.random.randn(4, 3, 3, 2)\r\n",
        "x_pad = zero_pad(x, 2)\r\n",
        "print (\"x.shape =\", x.shape)\r\n",
        "print (\"x_pad.shape =\", x_pad.shape)\r\n",
        "print (\"x[1,1] =\", x[1,1])\r\n",
        "print (\"x_pad[1,1] =\", x_pad[1,1])\r\n",
        "\r\n",
        "fig, axarr = plt.subplots(1, 2)\r\n",
        "axarr[0].set_title('x')\r\n",
        "axarr[0].imshow(x[0,:,:,0])\r\n",
        "axarr[1].set_title('x_pad')\r\n",
        "axarr[1].imshow(x_pad[0,:,:,0])"
      ],
      "execution_count": 29,
      "outputs": [
        {
          "output_type": "stream",
          "text": [
            "x.shape = (4, 3, 3, 2)\n",
            "x_pad.shape = (4, 7, 7, 2)\n",
            "x[1,1] = [[ 0.90085595 -0.68372786]\n",
            " [-0.12289023 -0.93576943]\n",
            " [-0.26788808  0.53035547]]\n",
            "x_pad[1,1] = [[0. 0.]\n",
            " [0. 0.]\n",
            " [0. 0.]\n",
            " [0. 0.]\n",
            " [0. 0.]\n",
            " [0. 0.]\n",
            " [0. 0.]]\n"
          ],
          "name": "stdout"
        },
        {
          "output_type": "execute_result",
          "data": {
            "text/plain": [
              "<matplotlib.image.AxesImage at 0x7fb84e46aa90>"
            ]
          },
          "metadata": {
            "tags": []
          },
          "execution_count": 29
        },
        {
          "output_type": "display_data",
          "data": {
            "image/png": "[encoded data removed]",
            "text/plain": [
              "<Figure size 360x288 with 2 Axes>"
            ]
          },
          "metadata": {
            "tags": [],
            "needs_background": "light"
          }
        }
      ]
    }
  ]
}